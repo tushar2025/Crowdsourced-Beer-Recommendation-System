{
  "nbformat": 4,
  "nbformat_minor": 0,
  "metadata": {
    "colab": {
      "name": "TA Assignment 2.ipynb",
      "provenance": [],
      "collapsed_sections": [],
      "toc_visible": true
    },
    "kernelspec": {
      "name": "python3",
      "display_name": "Python 3"
    },
    "accelerator": "GPU"
  },
  "cells": [
    {
      "cell_type": "code",
      "metadata": {
        "id": "RRW4JUj7UrTH",
        "colab_type": "code",
        "outputId": "783d4a79-acc4-40dc-8f08-456c4564d3cc",
        "colab": {
          "base_uri": "https://localhost:8080/",
          "height": 1000
        }
      },
      "source": [
        "## intalling required packages and drivers\n",
        "!pip install -U -q spacy\n",
        "!pip install -U -q spacy-lookups-data\n",
        "!python -m spacy download en_core_web_sm\n",
        "!python -m spacy download en\n",
        "\n",
        "## General libraries\n",
        "import sys\n",
        "import spacy\n",
        "nlp = spacy.load('en')\n",
        "import pandas as pd\n",
        "import numpy as np\n",
        "import re\n",
        "import string\n",
        "import itertools\n",
        "import warnings\n",
        "warnings.filterwarnings(\"ignore\")\n",
        "from tqdm import tqdm\n",
        "\n",
        "## Required for scraping\n",
        "!pip install selenium\n",
        "!apt install -yq chromium-chromedriver\n",
        "\n",
        "from selenium import webdriver\n",
        "from selenium.common.exceptions import NoSuchElementException\n",
        "\n",
        "sys.path.insert(0,'/usr/lib/chromium-browser/chromedriver')\n",
        "chrome_options = webdriver.ChromeOptions()\n",
        "chrome_options.add_argument('--headless')\n",
        "chrome_options.add_argument('--no-sandbox')\n",
        "chrome_options.add_argument('--disable-dev-shm-usage')\n",
        "\n",
        "import nltk\n",
        "from nltk.corpus import stopwords\n",
        "from nltk.tokenize import word_tokenize\n",
        "from nltk.sentiment.vader import SentimentIntensityAnalyzer\n",
        "nltk.download('vader_lexicon')\n",
        "from nltk.stem import WordNetLemmatizer \n",
        "\n",
        "nltk.download('punkt')\n",
        "nltk.download('stopwords')\n",
        "nltk.download('wordnet')"
      ],
      "execution_count": 0,
      "outputs": [
        {
          "output_type": "stream",
          "text": [
            "\u001b[K     |████████████████████████████████| 10.4MB 2.5MB/s \n",
            "\u001b[K     |████████████████████████████████| 122kB 51.1MB/s \n",
            "\u001b[K     |████████████████████████████████| 3.7MB 32.8MB/s \n",
            "\u001b[K     |████████████████████████████████| 2.2MB 29.4MB/s \n",
            "\u001b[K     |████████████████████████████████| 29.2MB 2.0MB/s \n",
            "\u001b[?25h  Building wheel for spacy-lookups-data (setup.py) ... \u001b[?25l\u001b[?25hdone\n",
            "Collecting en_core_web_sm==2.2.5\n",
            "\u001b[?25l  Downloading https://github.com/explosion/spacy-models/releases/download/en_core_web_sm-2.2.5/en_core_web_sm-2.2.5.tar.gz (12.0MB)\n",
            "\u001b[K     |████████████████████████████████| 12.0MB 648kB/s \n",
            "\u001b[?25hRequirement already satisfied: spacy>=2.2.2 in /usr/local/lib/python3.6/dist-packages (from en_core_web_sm==2.2.5) (2.2.3)\n",
            "Requirement already satisfied: preshed<3.1.0,>=3.0.2 in /usr/local/lib/python3.6/dist-packages (from spacy>=2.2.2->en_core_web_sm==2.2.5) (3.0.2)\n",
            "Requirement already satisfied: srsly<1.1.0,>=0.1.0 in /usr/local/lib/python3.6/dist-packages (from spacy>=2.2.2->en_core_web_sm==2.2.5) (0.2.0)\n",
            "Requirement already satisfied: cymem<2.1.0,>=2.0.2 in /usr/local/lib/python3.6/dist-packages (from spacy>=2.2.2->en_core_web_sm==2.2.5) (2.0.3)\n",
            "Requirement already satisfied: catalogue<1.1.0,>=0.0.7 in /usr/local/lib/python3.6/dist-packages (from spacy>=2.2.2->en_core_web_sm==2.2.5) (0.0.8)\n",
            "Requirement already satisfied: blis<0.5.0,>=0.4.0 in /usr/local/lib/python3.6/dist-packages (from spacy>=2.2.2->en_core_web_sm==2.2.5) (0.4.1)\n",
            "Requirement already satisfied: thinc<7.4.0,>=7.3.0 in /usr/local/lib/python3.6/dist-packages (from spacy>=2.2.2->en_core_web_sm==2.2.5) (7.3.1)\n",
            "Requirement already satisfied: wasabi<1.1.0,>=0.4.0 in /usr/local/lib/python3.6/dist-packages (from spacy>=2.2.2->en_core_web_sm==2.2.5) (0.4.0)\n",
            "Requirement already satisfied: murmurhash<1.1.0,>=0.28.0 in /usr/local/lib/python3.6/dist-packages (from spacy>=2.2.2->en_core_web_sm==2.2.5) (1.0.2)\n",
            "Requirement already satisfied: numpy>=1.15.0 in /usr/local/lib/python3.6/dist-packages (from spacy>=2.2.2->en_core_web_sm==2.2.5) (1.17.4)\n",
            "Requirement already satisfied: setuptools in /usr/local/lib/python3.6/dist-packages (from spacy>=2.2.2->en_core_web_sm==2.2.5) (41.6.0)\n",
            "Requirement already satisfied: requests<3.0.0,>=2.13.0 in /usr/local/lib/python3.6/dist-packages (from spacy>=2.2.2->en_core_web_sm==2.2.5) (2.21.0)\n",
            "Requirement already satisfied: plac<1.2.0,>=0.9.6 in /usr/local/lib/python3.6/dist-packages (from spacy>=2.2.2->en_core_web_sm==2.2.5) (0.9.6)\n",
            "Requirement already satisfied: importlib-metadata>=0.20; python_version < \"3.8\" in /usr/local/lib/python3.6/dist-packages (from catalogue<1.1.0,>=0.0.7->spacy>=2.2.2->en_core_web_sm==2.2.5) (0.23)\n",
            "Requirement already satisfied: tqdm<5.0.0,>=4.10.0 in /usr/local/lib/python3.6/dist-packages (from thinc<7.4.0,>=7.3.0->spacy>=2.2.2->en_core_web_sm==2.2.5) (4.28.1)\n",
            "Requirement already satisfied: idna<2.9,>=2.5 in /usr/local/lib/python3.6/dist-packages (from requests<3.0.0,>=2.13.0->spacy>=2.2.2->en_core_web_sm==2.2.5) (2.8)\n",
            "Requirement already satisfied: certifi>=2017.4.17 in /usr/local/lib/python3.6/dist-packages (from requests<3.0.0,>=2.13.0->spacy>=2.2.2->en_core_web_sm==2.2.5) (2019.9.11)\n",
            "Requirement already satisfied: urllib3<1.25,>=1.21.1 in /usr/local/lib/python3.6/dist-packages (from requests<3.0.0,>=2.13.0->spacy>=2.2.2->en_core_web_sm==2.2.5) (1.24.3)\n",
            "Requirement already satisfied: chardet<3.1.0,>=3.0.2 in /usr/local/lib/python3.6/dist-packages (from requests<3.0.0,>=2.13.0->spacy>=2.2.2->en_core_web_sm==2.2.5) (3.0.4)\n",
            "Requirement already satisfied: zipp>=0.5 in /usr/local/lib/python3.6/dist-packages (from importlib-metadata>=0.20; python_version < \"3.8\"->catalogue<1.1.0,>=0.0.7->spacy>=2.2.2->en_core_web_sm==2.2.5) (0.6.0)\n",
            "Requirement already satisfied: more-itertools in /usr/local/lib/python3.6/dist-packages (from zipp>=0.5->importlib-metadata>=0.20; python_version < \"3.8\"->catalogue<1.1.0,>=0.0.7->spacy>=2.2.2->en_core_web_sm==2.2.5) (7.2.0)\n",
            "Building wheels for collected packages: en-core-web-sm\n",
            "  Building wheel for en-core-web-sm (setup.py) ... \u001b[?25l\u001b[?25hdone\n",
            "  Created wheel for en-core-web-sm: filename=en_core_web_sm-2.2.5-cp36-none-any.whl size=12011741 sha256=9c0f88593745011c921213325b8fd6f7a55a00a821e2cb9023ad2e5855b681ab\n",
            "  Stored in directory: /tmp/pip-ephem-wheel-cache-naz5_n38/wheels/6a/47/fb/6b5a0b8906d8e8779246c67d4658fd8a544d4a03a75520197a\n",
            "Successfully built en-core-web-sm\n",
            "Installing collected packages: en-core-web-sm\n",
            "  Found existing installation: en-core-web-sm 2.1.0\n",
            "    Uninstalling en-core-web-sm-2.1.0:\n",
            "      Successfully uninstalled en-core-web-sm-2.1.0\n",
            "Successfully installed en-core-web-sm-2.2.5\n",
            "\u001b[38;5;2m✔ Download and installation successful\u001b[0m\n",
            "You can now load the model via spacy.load('en_core_web_sm')\n",
            "Requirement already satisfied: en_core_web_sm==2.2.5 from https://github.com/explosion/spacy-models/releases/download/en_core_web_sm-2.2.5/en_core_web_sm-2.2.5.tar.gz#egg=en_core_web_sm==2.2.5 in /usr/local/lib/python3.6/dist-packages (2.2.5)\n",
            "Requirement already satisfied: spacy>=2.2.2 in /usr/local/lib/python3.6/dist-packages (from en_core_web_sm==2.2.5) (2.2.3)\n",
            "Requirement already satisfied: plac<1.2.0,>=0.9.6 in /usr/local/lib/python3.6/dist-packages (from spacy>=2.2.2->en_core_web_sm==2.2.5) (0.9.6)\n",
            "Requirement already satisfied: blis<0.5.0,>=0.4.0 in /usr/local/lib/python3.6/dist-packages (from spacy>=2.2.2->en_core_web_sm==2.2.5) (0.4.1)\n",
            "Requirement already satisfied: cymem<2.1.0,>=2.0.2 in /usr/local/lib/python3.6/dist-packages (from spacy>=2.2.2->en_core_web_sm==2.2.5) (2.0.3)\n",
            "Requirement already satisfied: thinc<7.4.0,>=7.3.0 in /usr/local/lib/python3.6/dist-packages (from spacy>=2.2.2->en_core_web_sm==2.2.5) (7.3.1)\n",
            "Requirement already satisfied: wasabi<1.1.0,>=0.4.0 in /usr/local/lib/python3.6/dist-packages (from spacy>=2.2.2->en_core_web_sm==2.2.5) (0.4.0)\n",
            "Requirement already satisfied: srsly<1.1.0,>=0.1.0 in /usr/local/lib/python3.6/dist-packages (from spacy>=2.2.2->en_core_web_sm==2.2.5) (0.2.0)\n",
            "Requirement already satisfied: requests<3.0.0,>=2.13.0 in /usr/local/lib/python3.6/dist-packages (from spacy>=2.2.2->en_core_web_sm==2.2.5) (2.21.0)\n",
            "Requirement already satisfied: catalogue<1.1.0,>=0.0.7 in /usr/local/lib/python3.6/dist-packages (from spacy>=2.2.2->en_core_web_sm==2.2.5) (0.0.8)\n",
            "Requirement already satisfied: setuptools in /usr/local/lib/python3.6/dist-packages (from spacy>=2.2.2->en_core_web_sm==2.2.5) (41.6.0)\n",
            "Requirement already satisfied: numpy>=1.15.0 in /usr/local/lib/python3.6/dist-packages (from spacy>=2.2.2->en_core_web_sm==2.2.5) (1.17.4)\n",
            "Requirement already satisfied: murmurhash<1.1.0,>=0.28.0 in /usr/local/lib/python3.6/dist-packages (from spacy>=2.2.2->en_core_web_sm==2.2.5) (1.0.2)\n",
            "Requirement already satisfied: preshed<3.1.0,>=3.0.2 in /usr/local/lib/python3.6/dist-packages (from spacy>=2.2.2->en_core_web_sm==2.2.5) (3.0.2)\n",
            "Requirement already satisfied: tqdm<5.0.0,>=4.10.0 in /usr/local/lib/python3.6/dist-packages (from thinc<7.4.0,>=7.3.0->spacy>=2.2.2->en_core_web_sm==2.2.5) (4.28.1)\n",
            "Requirement already satisfied: certifi>=2017.4.17 in /usr/local/lib/python3.6/dist-packages (from requests<3.0.0,>=2.13.0->spacy>=2.2.2->en_core_web_sm==2.2.5) (2019.9.11)\n",
            "Requirement already satisfied: urllib3<1.25,>=1.21.1 in /usr/local/lib/python3.6/dist-packages (from requests<3.0.0,>=2.13.0->spacy>=2.2.2->en_core_web_sm==2.2.5) (1.24.3)\n",
            "Requirement already satisfied: idna<2.9,>=2.5 in /usr/local/lib/python3.6/dist-packages (from requests<3.0.0,>=2.13.0->spacy>=2.2.2->en_core_web_sm==2.2.5) (2.8)\n",
            "Requirement already satisfied: chardet<3.1.0,>=3.0.2 in /usr/local/lib/python3.6/dist-packages (from requests<3.0.0,>=2.13.0->spacy>=2.2.2->en_core_web_sm==2.2.5) (3.0.4)\n",
            "Requirement already satisfied: importlib-metadata>=0.20; python_version < \"3.8\" in /usr/local/lib/python3.6/dist-packages (from catalogue<1.1.0,>=0.0.7->spacy>=2.2.2->en_core_web_sm==2.2.5) (0.23)\n",
            "Requirement already satisfied: zipp>=0.5 in /usr/local/lib/python3.6/dist-packages (from importlib-metadata>=0.20; python_version < \"3.8\"->catalogue<1.1.0,>=0.0.7->spacy>=2.2.2->en_core_web_sm==2.2.5) (0.6.0)\n",
            "Requirement already satisfied: more-itertools in /usr/local/lib/python3.6/dist-packages (from zipp>=0.5->importlib-metadata>=0.20; python_version < \"3.8\"->catalogue<1.1.0,>=0.0.7->spacy>=2.2.2->en_core_web_sm==2.2.5) (7.2.0)\n",
            "\u001b[38;5;2m✔ Download and installation successful\u001b[0m\n",
            "You can now load the model via spacy.load('en_core_web_sm')\n",
            "\u001b[38;5;2m✔ Linking successful\u001b[0m\n",
            "/usr/local/lib/python3.6/dist-packages/en_core_web_sm -->\n",
            "/usr/local/lib/python3.6/dist-packages/spacy/data/en\n",
            "You can now load the model via spacy.load('en')\n",
            "Collecting selenium\n",
            "\u001b[?25l  Downloading https://files.pythonhosted.org/packages/80/d6/4294f0b4bce4de0abf13e17190289f9d0613b0a44e5dd6a7f5ca98459853/selenium-3.141.0-py2.py3-none-any.whl (904kB)\n",
            "\u001b[K     |████████████████████████████████| 911kB 2.8MB/s \n",
            "\u001b[?25hRequirement already satisfied: urllib3 in /usr/local/lib/python3.6/dist-packages (from selenium) (1.24.3)\n",
            "Installing collected packages: selenium\n",
            "Successfully installed selenium-3.141.0\n",
            "Reading package lists...\n",
            "Building dependency tree...\n",
            "Reading state information...\n",
            "The following package was automatically installed and is no longer required:\n",
            "  libnvidia-common-430\n",
            "Use 'apt autoremove' to remove it.\n",
            "The following additional packages will be installed:\n",
            "  chromium-browser chromium-browser-l10n chromium-codecs-ffmpeg-extra\n",
            "Suggested packages:\n",
            "  webaccounts-chromium-extension unity-chromium-extension adobe-flashplugin\n",
            "The following NEW packages will be installed:\n",
            "  chromium-browser chromium-browser-l10n chromium-chromedriver\n",
            "  chromium-codecs-ffmpeg-extra\n",
            "0 upgraded, 4 newly installed, 0 to remove and 32 not upgraded.\n",
            "Need to get 71.9 MB of archives.\n",
            "After this operation, 257 MB of additional disk space will be used.\n",
            "Ign:1 http://archive.ubuntu.com/ubuntu bionic-updates/universe amd64 chromium-codecs-ffmpeg-extra amd64 78.0.3904.97-0ubuntu0.18.04.1\n",
            "Ign:2 http://archive.ubuntu.com/ubuntu bionic-updates/universe amd64 chromium-browser amd64 78.0.3904.97-0ubuntu0.18.04.1\n",
            "Ign:3 http://archive.ubuntu.com/ubuntu bionic-updates/universe amd64 chromium-browser-l10n all 78.0.3904.97-0ubuntu0.18.04.1\n",
            "Ign:4 http://archive.ubuntu.com/ubuntu bionic-updates/universe amd64 chromium-chromedriver amd64 78.0.3904.97-0ubuntu0.18.04.1\n",
            "Err:1 http://security.ubuntu.com/ubuntu bionic-updates/universe amd64 chromium-codecs-ffmpeg-extra amd64 78.0.3904.97-0ubuntu0.18.04.1\n",
            "  404  Not Found [IP: 91.189.88.162 80]\n",
            "Err:2 http://security.ubuntu.com/ubuntu bionic-updates/universe amd64 chromium-browser amd64 78.0.3904.97-0ubuntu0.18.04.1\n",
            "  404  Not Found [IP: 91.189.88.162 80]\n",
            "Err:3 http://security.ubuntu.com/ubuntu bionic-updates/universe amd64 chromium-browser-l10n all 78.0.3904.97-0ubuntu0.18.04.1\n",
            "  404  Not Found [IP: 91.189.88.162 80]\n",
            "Err:4 http://security.ubuntu.com/ubuntu bionic-updates/universe amd64 chromium-chromedriver amd64 78.0.3904.97-0ubuntu0.18.04.1\n",
            "  404  Not Found [IP: 91.189.88.162 80]\n",
            "E: Failed to fetch http://security.ubuntu.com/ubuntu/pool/universe/c/chromium-browser/chromium-codecs-ffmpeg-extra_78.0.3904.97-0ubuntu0.18.04.1_amd64.deb  404  Not Found [IP: 91.189.88.162 80]\n",
            "E: Failed to fetch http://security.ubuntu.com/ubuntu/pool/universe/c/chromium-browser/chromium-browser_78.0.3904.97-0ubuntu0.18.04.1_amd64.deb  404  Not Found [IP: 91.189.88.162 80]\n",
            "E: Failed to fetch http://security.ubuntu.com/ubuntu/pool/universe/c/chromium-browser/chromium-browser-l10n_78.0.3904.97-0ubuntu0.18.04.1_all.deb  404  Not Found [IP: 91.189.88.162 80]\n",
            "E: Failed to fetch http://security.ubuntu.com/ubuntu/pool/universe/c/chromium-browser/chromium-chromedriver_78.0.3904.97-0ubuntu0.18.04.1_amd64.deb  404  Not Found [IP: 91.189.88.162 80]\n",
            "E: Unable to fetch some archives, maybe run apt-get update or try with --fix-missing?\n",
            "[nltk_data] Downloading package vader_lexicon to /root/nltk_data...\n",
            "[nltk_data] Downloading package punkt to /root/nltk_data...\n",
            "[nltk_data]   Unzipping tokenizers/punkt.zip.\n",
            "[nltk_data] Downloading package stopwords to /root/nltk_data...\n",
            "[nltk_data]   Unzipping corpora/stopwords.zip.\n",
            "[nltk_data] Downloading package wordnet to /root/nltk_data...\n",
            "[nltk_data]   Unzipping corpora/wordnet.zip.\n"
          ],
          "name": "stdout"
        },
        {
          "output_type": "execute_result",
          "data": {
            "text/plain": [
              "True"
            ]
          },
          "metadata": {
            "tags": []
          },
          "execution_count": 1
        }
      ]
    },
    {
      "cell_type": "markdown",
      "metadata": {
        "id": "hN0Z9Itp81GG",
        "colab_type": "text"
      },
      "source": [
        "## Data Scraping"
      ]
    },
    {
      "cell_type": "code",
      "metadata": {
        "id": "1EjM9GXKU_79",
        "colab_type": "code",
        "colab": {}
      },
      "source": [
        "class Scraper():\n",
        "  def __init__(self, driver, base_url, xpaths, split_index, start = 0, attributes = dict()):\n",
        "    ## Initializing class variables\n",
        "    self.base_url = base_url\n",
        "    self.driver = driver\n",
        "    self.xpaths = xpaths\n",
        "    self.split_index = split_index\n",
        "    self.content = pd.DataFrame(columns=list(xpaths.keys()))\n",
        "    self.flag = True\n",
        "    self.start = start\n",
        "    self.attributes = attributes\n",
        "\n",
        "  ## Extracting relevent content from the forum\n",
        "  def get_content(self):\n",
        "      self.flag = True\n",
        "      post = self.start\n",
        "      index = 0\n",
        "      self.driver.get(self.base_url)\n",
        "      while self.flag:\n",
        "        ## Extract relevant elements and store in a dataframe\n",
        "        for attr in list(xpaths.keys()):\n",
        "          path = self.xpaths[attr][:self.split_index]+str(post)+self.xpaths[attr][self.split_index+1:]\n",
        "          if attr in list(self.attributes.keys()):\n",
        "            content = self.get_attr_if_exists(path, self.attributes[attr])\n",
        "          else:\n",
        "            content = self.get_content_if_exists(path)\n",
        "          if(content!=''):\n",
        "            self.content.at[index,attr] = content\n",
        "        post += 1\n",
        "        index += 1\n",
        "\n",
        "  ## Check if name element is present and extract\n",
        "  def get_content_if_exists(self, path):\n",
        "    try:\n",
        "        element = self.driver.find_element_by_xpath(path)\n",
        "    except NoSuchElementException:\n",
        "        self.flag = False\n",
        "        return ''\n",
        "    return element.text\n",
        "\n",
        "   ## Check if name element is present and extract\n",
        "  def get_attr_if_exists(self, path, attribute):\n",
        "    try:\n",
        "        element = self.driver.find_element_by_xpath(path)\n",
        "    except NoSuchElementException:\n",
        "        self.flag = False\n",
        "        return ''\n",
        "    return element.get_attribute(attribute)"
      ],
      "execution_count": 0,
      "outputs": []
    },
    {
      "cell_type": "code",
      "metadata": {
        "id": "zdm9cOoU84mQ",
        "colab_type": "code",
        "colab": {}
      },
      "source": [
        "## Initial parameters setting\n",
        "base_url_beer = \"https://www.beeradvocate.com/beer/top-rated/\"\n",
        "driver = webdriver.Chrome('chromedriver', options=chrome_options)\n",
        "xpaths = {'name':'/html/body/div[2]/div/div[2]/div[2]/div[2]/div/div/div[3]/div/div/div[2]/table/tbody/tr[2]/td[2]/a/b',\n",
        "          'description':'/html/body/div[2]/div/div[2]/div[2]/div[2]/div/div/div[3]/div/div/div[2]/table/tbody/tr[2]/td[2]/span',\n",
        "          'numberofratings':'/html/body/div[2]/div/div[2]/div[2]/div[2]/div/div/div[3]/div/div/div[2]/table/tbody/tr[2]/td[3]/b',\n",
        "          'rating':'/html/body/div[2]/div/div[2]/div[2]/div[2]/div/div/div[3]/div/div/div[2]/table/tbody/tr[2]/td[4]/b',\n",
        "          'link':'/html/body/div[2]/div/div[2]/div[2]/div[2]/div/div/div[3]/div/div/div[2]/table/tbody/tr[2]/td[2]/a'}\n",
        "attributes = {'link':'href'}\n",
        "\n",
        "## Creating scrapper class object and scraping the forum\n",
        "scraper = Scraper(driver,base_url_beer,xpaths,88,2,attributes)\n",
        "scraper.get_content()\n",
        "\n",
        "## Storing scraped data\n",
        "beers = scraper.content\n",
        "beers = beers.reset_index()\n",
        "\n",
        "## Getting reviews data\n",
        "reviews = pd.DataFrame()\n",
        "driver = webdriver.Chrome('chromedriver', options=chrome_options)\n",
        "for beer in tqdm(range(beers.shape[0])):\n",
        "  xpaths = {'content':'/html/body/div[2]/div/div[2]/div[2]/div[2]/div/div/div[3]/div/div/div[2]/div[8]/div/div[1]/div[2]'}\n",
        "  attributes = {}\n",
        "  scraper = Scraper(driver,beers.ix[beer,'link'],xpaths,88,1,attributes)\n",
        "  scraper.get_content()\n",
        "\n",
        "  ## Storing scraped data\n",
        "  data = scraper.content\n",
        "  data['index'] = beers.ix[beer,'index']\n",
        "  reviews = pd.concat([reviews,data],axis=0)\n",
        "\n",
        "reviews['user_rating'] = reviews['content'].apply(lambda x: re.findall('[0-9\\.]*(?=\\/)',x)[0])\n",
        "reviews['comment'] = reviews['content'].apply(lambda x: x.split('\\n\\n',1)[1].rsplit('\\n\\n',2)[0])\n",
        "\n",
        "reviews = reviews[['index','comment','user_rating']]\n",
        "\n",
        "data = pd.merge(reviews, beers, on = 'index', how = 'left')\n",
        "data = data[['name','comment','user_rating']]\n",
        "data.columns = ['product_name','product_review','user_rating']\n",
        "\n",
        "data['clean_review'] = data['product_review'].apply(lambda x: x.translate(str.maketrans('', '', string.punctuation+'\\n')))\n",
        "data['clean_review'] = data['clean_review'].apply(lambda x: x.lower())"
      ],
      "execution_count": 0,
      "outputs": []
    },
    {
      "cell_type": "markdown",
      "metadata": {
        "id": "VL-tYOD487xU",
        "colab_type": "text"
      },
      "source": [
        "## Data Cleaning"
      ]
    },
    {
      "cell_type": "code",
      "metadata": {
        "id": "-hR9cw22U9fU",
        "colab_type": "code",
        "colab": {}
      },
      "source": [
        "data = pd.read_csv(\"clean_data.csv\")"
      ],
      "execution_count": 0,
      "outputs": []
    },
    {
      "cell_type": "code",
      "metadata": {
        "id": "AAj-BR7n8ckY",
        "colab_type": "code",
        "colab": {}
      },
      "source": [
        "class DataCleaning():\n",
        "  def __init__(self, data, message_column, stopwords):\n",
        "    ## Initializing class variables\n",
        "    self.data = data\n",
        "    self.stopwords = stopwords\n",
        "    self.clean_data = self.data[message_column].apply(word_tokenize)\n",
        "    self.lemmatizer = WordNetLemmatizer() \n",
        "\n",
        "  def get_clean_data(self):\n",
        "    ## make all words lowercase\n",
        "    output = self.clean_data.apply(self.convert_to_lower)\n",
        "    ## remove non-alphanumeric words\n",
        "    output = output.apply(self.remove_non_alphanumeric)\n",
        "    ## remove stop words\n",
        "    output = output.apply(self.remove_stopwords)\n",
        "    ## remove short words\n",
        "    output = output.apply(self.remove_short_words)\n",
        "    ## lemmatizing words\n",
        "    output = output.apply(self.lemmatize_words)\n",
        "    ## converting list to string\n",
        "    output = output.apply(lambda x: ' '.join(x))\n",
        "    self.data['new_review'] = output\n",
        "    \n",
        "  def convert_to_lower(self, row):\n",
        "    first = [word.lower() for word in row]\n",
        "    second = [word.strip() for word in first]\n",
        "    return second\n",
        "\n",
        "  def remove_non_alphanumeric(self, row):\n",
        "    return [word for word in row if word.isalpha()]\n",
        "\n",
        "  def remove_stopwords(self, row):\n",
        "    return [word for word in row if not word in self.stopwords]\n",
        "\n",
        "  def remove_short_words(self, row):\n",
        "    return [word for word in row if len(word)>2]\n",
        "\n",
        "  def lemmatize_words(self, row):\n",
        "    return [self.lemmatizer.lemmatize(word) for word in row]"
      ],
      "execution_count": 0,
      "outputs": []
    },
    {
      "cell_type": "code",
      "metadata": {
        "id": "fbg5nZ9iE-82",
        "colab_type": "code",
        "outputId": "a981550b-4f6a-4c05-ca1f-3f84ccc12930",
        "colab": {
          "base_uri": "https://localhost:8080/",
          "height": 206
        }
      },
      "source": [
        "stop_words = set(stopwords.words('english'))\n",
        "\n",
        "cleaning = DataCleaning(data,'clean_review',stop_words)\n",
        "cleaning.get_clean_data()\n",
        "\n",
        "data = cleaning.data[['product_name','user_rating','new_review']]\n",
        "data.columns = ['product_name','user_rating','product_review']\n",
        "\n",
        "data.head()"
      ],
      "execution_count": 0,
      "outputs": [
        {
          "output_type": "execute_result",
          "data": {
            "text/html": [
              "<div>\n",
              "<style scoped>\n",
              "    .dataframe tbody tr th:only-of-type {\n",
              "        vertical-align: middle;\n",
              "    }\n",
              "\n",
              "    .dataframe tbody tr th {\n",
              "        vertical-align: top;\n",
              "    }\n",
              "\n",
              "    .dataframe thead th {\n",
              "        text-align: right;\n",
              "    }\n",
              "</style>\n",
              "<table border=\"1\" class=\"dataframe\">\n",
              "  <thead>\n",
              "    <tr style=\"text-align: right;\">\n",
              "      <th></th>\n",
              "      <th>product_name</th>\n",
              "      <th>user_rating</th>\n",
              "      <th>product_review</th>\n",
              "    </tr>\n",
              "  </thead>\n",
              "  <tbody>\n",
              "    <tr>\n",
              "      <th>0</th>\n",
              "      <td>Kentucky Brunch Brand Stout</td>\n",
              "      <td>4.80</td>\n",
              "      <td>silver wax aroma whiskey maple toffee umami ta...</td>\n",
              "    </tr>\n",
              "    <tr>\n",
              "      <th>1</th>\n",
              "      <td>Kentucky Brunch Brand Stout</td>\n",
              "      <td>4.74</td>\n",
              "      <td>beer pours pitch black frothy tan head bottle ...</td>\n",
              "    </tr>\n",
              "    <tr>\n",
              "      <th>2</th>\n",
              "      <td>Kentucky Brunch Brand Stout</td>\n",
              "      <td>4.68</td>\n",
              "      <td>probably smoothest beer ever smelled better ta...</td>\n",
              "    </tr>\n",
              "    <tr>\n",
              "      <th>3</th>\n",
              "      <td>Kentucky Brunch Brand Stout</td>\n",
              "      <td>5.00</td>\n",
              "      <td>dark black thick little bit tan head smell ama...</td>\n",
              "    </tr>\n",
              "    <tr>\n",
              "      <th>4</th>\n",
              "      <td>Kentucky Brunch Brand Stout</td>\n",
              "      <td>4.97</td>\n",
              "      <td>poured black ink thin ruby edge degree fast fi...</td>\n",
              "    </tr>\n",
              "  </tbody>\n",
              "</table>\n",
              "</div>"
            ],
            "text/plain": [
              "                  product_name  ...                                     product_review\n",
              "0  Kentucky Brunch Brand Stout  ...  silver wax aroma whiskey maple toffee umami ta...\n",
              "1  Kentucky Brunch Brand Stout  ...  beer pours pitch black frothy tan head bottle ...\n",
              "2  Kentucky Brunch Brand Stout  ...  probably smoothest beer ever smelled better ta...\n",
              "3  Kentucky Brunch Brand Stout  ...  dark black thick little bit tan head smell ama...\n",
              "4  Kentucky Brunch Brand Stout  ...  poured black ink thin ruby edge degree fast fi...\n",
              "\n",
              "[5 rows x 3 columns]"
            ]
          },
          "metadata": {
            "tags": []
          },
          "execution_count": 6
        }
      ]
    },
    {
      "cell_type": "markdown",
      "metadata": {
        "id": "avNjyuYl92R0",
        "colab_type": "text"
      },
      "source": [
        "## Beer Attributes"
      ]
    },
    {
      "cell_type": "code",
      "metadata": {
        "id": "hVvJexOyPU6S",
        "colab_type": "code",
        "colab": {}
      },
      "source": [
        "all_attributes = ['aggressive', 'balanced', 'complex', 'diacetyl', 'estery', 'floral', 'fruity', 'hoppy', 'malty', 'roasty', 'robust']"
      ],
      "execution_count": 0,
      "outputs": []
    },
    {
      "cell_type": "code",
      "metadata": {
        "id": "FxRcH-pNQ_Zj",
        "colab_type": "code",
        "outputId": "3c08a05d-8cbe-4dfe-f09b-c56036340356",
        "colab": {
          "base_uri": "https://localhost:8080/",
          "height": 364
        }
      },
      "source": [
        "print(\"Select three things you want your beer to be from the list below:\\n1 Agressive\\n2. Balanced\\n3. Complex\\n4. Diacetyl\\n5. Estery\\n6. Floral\\n7. Fruity\\n8. Hoppy\\n9. Malty\\n10. Roasty\\n11. Robust\\n\\nIf you want your beer to be Aggressive, Balanced, and Roasty, type in 1 2 10.\\n\")\n",
        "attr = list(map(int,input().split(' ')))\n",
        "attr = [i-1 for i in attr]\n",
        "attributes = [all_attributes[i] for i in attr]\n",
        "print(\"\\nThanks for your input.\\n\\nYou chose {}.\".format(','.join(attributes)))"
      ],
      "execution_count": 0,
      "outputs": [
        {
          "output_type": "stream",
          "text": [
            "Select three things you want your beer to be from the list below:\n",
            "1 Agressive\n",
            "2. Balanced\n",
            "3. Complex\n",
            "4. Diacetyl\n",
            "5. Estery\n",
            "6. Floral\n",
            "7. Fruity\n",
            "8. Hoppy\n",
            "9. Malty\n",
            "10. Roasty\n",
            "11. Robust\n",
            "\n",
            "If you want your beer to be Aggressive, Balanced, and Roasty, type in 1 2 10.\n",
            "\n",
            "6 7 9\n",
            "\n",
            "Thanks for your input.\n",
            "\n",
            "You chose floral,fruity,malty.\n"
          ],
          "name": "stdout"
        }
      ]
    },
    {
      "cell_type": "markdown",
      "metadata": {
        "id": "KITK11ijBTY5",
        "colab_type": "text"
      },
      "source": [
        "## Similarity and Sentiment of Reviews"
      ]
    },
    {
      "cell_type": "code",
      "metadata": {
        "id": "GAvDLq_yAKcd",
        "colab_type": "code",
        "colab": {}
      },
      "source": [
        "class Similarity():\n",
        "  def __init__(self, data, attributes, column):\n",
        "    self.data = data\n",
        "    self.attributes = attributes\n",
        "    self.column = column\n",
        "\n",
        "  def get_similarity(self):\n",
        "    for row in tqdm(range(self.data.shape[0])):\n",
        "      word_tokens = nlp(self.data.ix[row,self.column])\n",
        "      similarity = 0\n",
        "      for attr in self.attributes:\n",
        "        similarity += nlp(attr).similarity(word_tokens)\n",
        "      similarity = similarity/len(self.attributes)\n",
        "      self.data.at[row,'similarity'] = similarity\n",
        "\n",
        "  def get_sentiment(self):\n",
        "    sentiment_analyzer = SentimentIntensityAnalyzer()\n",
        "    for row in tqdm(range(self.data.shape[0])):\n",
        "      sentiment_all = sentiment_analyzer.polarity_scores(self.data.ix[row,self.column])\n",
        "      self.data.at[row,'sentiment'] = float(sentiment_all['compound'])"
      ],
      "execution_count": 0,
      "outputs": []
    },
    {
      "cell_type": "code",
      "metadata": {
        "id": "yAamlENT1Duv",
        "colab_type": "code",
        "outputId": "5c69bdb5-bc0d-4fe7-b380-fa466c81afe4",
        "colab": {
          "base_uri": "https://localhost:8080/",
          "height": 52
        }
      },
      "source": [
        "similarity = Similarity(data, attributes, 'product_review')\n",
        "similarity.get_similarity()\n",
        "similarity.get_sentiment()\n",
        "\n",
        "data_similarity = similarity.data"
      ],
      "execution_count": 0,
      "outputs": [
        {
          "output_type": "stream",
          "text": [
            "100%|██████████| 6210/6210 [09:09<00:00, 11.30it/s]\n",
            "100%|██████████| 6210/6210 [00:04<00:00, 1295.27it/s]\n"
          ],
          "name": "stderr"
        }
      ]
    },
    {
      "cell_type": "code",
      "metadata": {
        "id": "VNbPbZfaGcuI",
        "colab_type": "code",
        "outputId": "f11c7cf0-51e0-4a55-97de-38770ba84d73",
        "colab": {
          "base_uri": "https://localhost:8080/",
          "height": 206
        }
      },
      "source": [
        "data_similarity.head()"
      ],
      "execution_count": 0,
      "outputs": [
        {
          "output_type": "execute_result",
          "data": {
            "text/html": [
              "<div>\n",
              "<style scoped>\n",
              "    .dataframe tbody tr th:only-of-type {\n",
              "        vertical-align: middle;\n",
              "    }\n",
              "\n",
              "    .dataframe tbody tr th {\n",
              "        vertical-align: top;\n",
              "    }\n",
              "\n",
              "    .dataframe thead th {\n",
              "        text-align: right;\n",
              "    }\n",
              "</style>\n",
              "<table border=\"1\" class=\"dataframe\">\n",
              "  <thead>\n",
              "    <tr style=\"text-align: right;\">\n",
              "      <th></th>\n",
              "      <th>product_name</th>\n",
              "      <th>user_rating</th>\n",
              "      <th>product_review</th>\n",
              "      <th>similarity</th>\n",
              "      <th>sentiment</th>\n",
              "    </tr>\n",
              "  </thead>\n",
              "  <tbody>\n",
              "    <tr>\n",
              "      <th>0</th>\n",
              "      <td>Kentucky Brunch Brand Stout</td>\n",
              "      <td>4.80</td>\n",
              "      <td>silver wax aroma whiskey maple toffee umami ta...</td>\n",
              "      <td>0.482110</td>\n",
              "      <td>-0.4215</td>\n",
              "    </tr>\n",
              "    <tr>\n",
              "      <th>1</th>\n",
              "      <td>Kentucky Brunch Brand Stout</td>\n",
              "      <td>4.74</td>\n",
              "      <td>beer pours pitch black frothy tan head bottle ...</td>\n",
              "      <td>0.479950</td>\n",
              "      <td>0.2263</td>\n",
              "    </tr>\n",
              "    <tr>\n",
              "      <th>2</th>\n",
              "      <td>Kentucky Brunch Brand Stout</td>\n",
              "      <td>4.68</td>\n",
              "      <td>probably smoothest beer ever smelled better ta...</td>\n",
              "      <td>0.430278</td>\n",
              "      <td>0.8360</td>\n",
              "    </tr>\n",
              "    <tr>\n",
              "      <th>3</th>\n",
              "      <td>Kentucky Brunch Brand Stout</td>\n",
              "      <td>5.00</td>\n",
              "      <td>dark black thick little bit tan head smell ama...</td>\n",
              "      <td>0.456915</td>\n",
              "      <td>0.7972</td>\n",
              "    </tr>\n",
              "    <tr>\n",
              "      <th>4</th>\n",
              "      <td>Kentucky Brunch Brand Stout</td>\n",
              "      <td>4.97</td>\n",
              "      <td>poured black ink thin ruby edge degree fast fi...</td>\n",
              "      <td>0.459284</td>\n",
              "      <td>0.9781</td>\n",
              "    </tr>\n",
              "  </tbody>\n",
              "</table>\n",
              "</div>"
            ],
            "text/plain": [
              "                  product_name  user_rating  ... similarity  sentiment\n",
              "0  Kentucky Brunch Brand Stout         4.80  ...   0.482110    -0.4215\n",
              "1  Kentucky Brunch Brand Stout         4.74  ...   0.479950     0.2263\n",
              "2  Kentucky Brunch Brand Stout         4.68  ...   0.430278     0.8360\n",
              "3  Kentucky Brunch Brand Stout         5.00  ...   0.456915     0.7972\n",
              "4  Kentucky Brunch Brand Stout         4.97  ...   0.459284     0.9781\n",
              "\n",
              "[5 rows x 5 columns]"
            ]
          },
          "metadata": {
            "tags": []
          },
          "execution_count": 11
        }
      ]
    },
    {
      "cell_type": "markdown",
      "metadata": {
        "id": "r5nvIDmGGW5X",
        "colab_type": "text"
      },
      "source": [
        "## Top 300 Reviews"
      ]
    },
    {
      "cell_type": "code",
      "metadata": {
        "id": "nIvhlBZqz9Tp",
        "colab_type": "code",
        "outputId": "62d1aff0-a162-41b6-8a54-82b2e837d4df",
        "colab": {
          "base_uri": "https://localhost:8080/",
          "height": 206
        }
      },
      "source": [
        "top_300 = data_similarity.sort_values('similarity',ascending=False).head(300)\n",
        "\n",
        "top_300.head()"
      ],
      "execution_count": 0,
      "outputs": [
        {
          "output_type": "execute_result",
          "data": {
            "text/html": [
              "<div>\n",
              "<style scoped>\n",
              "    .dataframe tbody tr th:only-of-type {\n",
              "        vertical-align: middle;\n",
              "    }\n",
              "\n",
              "    .dataframe tbody tr th {\n",
              "        vertical-align: top;\n",
              "    }\n",
              "\n",
              "    .dataframe thead th {\n",
              "        text-align: right;\n",
              "    }\n",
              "</style>\n",
              "<table border=\"1\" class=\"dataframe\">\n",
              "  <thead>\n",
              "    <tr style=\"text-align: right;\">\n",
              "      <th></th>\n",
              "      <th>product_name</th>\n",
              "      <th>user_rating</th>\n",
              "      <th>product_review</th>\n",
              "      <th>similarity</th>\n",
              "      <th>sentiment</th>\n",
              "    </tr>\n",
              "  </thead>\n",
              "  <tbody>\n",
              "    <tr>\n",
              "      <th>1635</th>\n",
              "      <td>Fourth Dementia - Bourbon Barrel-Aged</td>\n",
              "      <td>4.75</td>\n",
              "      <td>smell taste like sweet raisin overall awesome ...</td>\n",
              "      <td>0.551946</td>\n",
              "      <td>0.9559</td>\n",
              "    </tr>\n",
              "    <tr>\n",
              "      <th>249</th>\n",
              "      <td>King JJJuliusss</td>\n",
              "      <td>5.00</td>\n",
              "      <td>old rating june amazing mouthfeel juice explos...</td>\n",
              "      <td>0.524934</td>\n",
              "      <td>0.8402</td>\n",
              "    </tr>\n",
              "    <tr>\n",
              "      <th>1696</th>\n",
              "      <td>Nectarine Premiere</td>\n",
              "      <td>5.00</td>\n",
              "      <td>draft site gardel orange like hazy style ipa m...</td>\n",
              "      <td>0.524792</td>\n",
              "      <td>0.9475</td>\n",
              "    </tr>\n",
              "    <tr>\n",
              "      <th>1339</th>\n",
              "      <td>Lou Pepe - Framboise</td>\n",
              "      <td>4.68</td>\n",
              "      <td>vintagepours deep red little headaroma huge ra...</td>\n",
              "      <td>0.523578</td>\n",
              "      <td>0.4445</td>\n",
              "    </tr>\n",
              "    <tr>\n",
              "      <th>2173</th>\n",
              "      <td>Alter Ego</td>\n",
              "      <td>4.49</td>\n",
              "      <td>trillium tree house sharp fresh would try pref...</td>\n",
              "      <td>0.522427</td>\n",
              "      <td>0.5859</td>\n",
              "    </tr>\n",
              "  </tbody>\n",
              "</table>\n",
              "</div>"
            ],
            "text/plain": [
              "                               product_name  user_rating  ... similarity  sentiment\n",
              "1635  Fourth Dementia - Bourbon Barrel-Aged         4.75  ...   0.551946     0.9559\n",
              "249                         King JJJuliusss         5.00  ...   0.524934     0.8402\n",
              "1696                     Nectarine Premiere         5.00  ...   0.524792     0.9475\n",
              "1339                   Lou Pepe - Framboise         4.68  ...   0.523578     0.4445\n",
              "2173                              Alter Ego         4.49  ...   0.522427     0.5859\n",
              "\n",
              "[5 rows x 5 columns]"
            ]
          },
          "metadata": {
            "tags": []
          },
          "execution_count": 12
        }
      ]
    },
    {
      "cell_type": "markdown",
      "metadata": {
        "id": "qUc177s8HaoO",
        "colab_type": "text"
      },
      "source": [
        "## Sentiments of Top 300 Reviews"
      ]
    },
    {
      "cell_type": "code",
      "metadata": {
        "id": "YytV-DOk-Jt7",
        "colab_type": "code",
        "outputId": "061ee989-11e5-4b7f-eb6d-92920dc4a0e4",
        "colab": {
          "base_uri": "https://localhost:8080/",
          "height": 206
        }
      },
      "source": [
        "top_300['user_rating'] = top_300['user_rating'].astype('float')\n",
        "top_300['sentiment'] = top_300['sentiment'].astype('float')\n",
        "\n",
        "top_300.sort_values('sentiment',ascending=False).head()"
      ],
      "execution_count": 0,
      "outputs": [
        {
          "output_type": "execute_result",
          "data": {
            "text/html": [
              "<div>\n",
              "<style scoped>\n",
              "    .dataframe tbody tr th:only-of-type {\n",
              "        vertical-align: middle;\n",
              "    }\n",
              "\n",
              "    .dataframe tbody tr th {\n",
              "        vertical-align: top;\n",
              "    }\n",
              "\n",
              "    .dataframe thead th {\n",
              "        text-align: right;\n",
              "    }\n",
              "</style>\n",
              "<table border=\"1\" class=\"dataframe\">\n",
              "  <thead>\n",
              "    <tr style=\"text-align: right;\">\n",
              "      <th></th>\n",
              "      <th>product_name</th>\n",
              "      <th>user_rating</th>\n",
              "      <th>product_review</th>\n",
              "      <th>similarity</th>\n",
              "      <th>sentiment</th>\n",
              "    </tr>\n",
              "  </thead>\n",
              "  <tbody>\n",
              "    <tr>\n",
              "      <th>1250</th>\n",
              "      <td>Focal Banger</td>\n",
              "      <td>4.73</td>\n",
              "      <td>poured leo ursus glassa really pretty transluc...</td>\n",
              "      <td>0.487926</td>\n",
              "      <td>0.9928</td>\n",
              "    </tr>\n",
              "    <tr>\n",
              "      <th>4568</th>\n",
              "      <td>Sosus</td>\n",
              "      <td>4.50</td>\n",
              "      <td>great dipa topplong goliath one great hope gre...</td>\n",
              "      <td>0.509049</td>\n",
              "      <td>0.9926</td>\n",
              "    </tr>\n",
              "    <tr>\n",
              "      <th>1556</th>\n",
              "      <td>Beatification</td>\n",
              "      <td>4.72</td>\n",
              "      <td>poured beatification new year got love cork po...</td>\n",
              "      <td>0.501652</td>\n",
              "      <td>0.9904</td>\n",
              "    </tr>\n",
              "    <tr>\n",
              "      <th>4695</th>\n",
              "      <td>Matt</td>\n",
              "      <td>4.70</td>\n",
              "      <td>long time want thanks barrythebear vintage bot...</td>\n",
              "      <td>0.508008</td>\n",
              "      <td>0.9884</td>\n",
              "    </tr>\n",
              "    <tr>\n",
              "      <th>1653</th>\n",
              "      <td>Doppelganger</td>\n",
              "      <td>4.40</td>\n",
              "      <td>first attempted shiftdaced beer revieew renove...</td>\n",
              "      <td>0.488293</td>\n",
              "      <td>0.9858</td>\n",
              "    </tr>\n",
              "  </tbody>\n",
              "</table>\n",
              "</div>"
            ],
            "text/plain": [
              "       product_name  user_rating  ... similarity  sentiment\n",
              "1250   Focal Banger         4.73  ...   0.487926     0.9928\n",
              "4568          Sosus         4.50  ...   0.509049     0.9926\n",
              "1556  Beatification         4.72  ...   0.501652     0.9904\n",
              "4695           Matt         4.70  ...   0.508008     0.9884\n",
              "1653   Doppelganger         4.40  ...   0.488293     0.9858\n",
              "\n",
              "[5 rows x 5 columns]"
            ]
          },
          "metadata": {
            "tags": []
          },
          "execution_count": 13
        }
      ]
    },
    {
      "cell_type": "markdown",
      "metadata": {
        "id": "qiEJFLpmHriP",
        "colab_type": "text"
      },
      "source": [
        "## Recommendations on the basis of similarity and sentiment"
      ]
    },
    {
      "cell_type": "code",
      "metadata": {
        "id": "NrA0dl86Qncs",
        "colab_type": "code",
        "colab": {}
      },
      "source": [
        "data_recommend = top_300.groupby('product_name').agg({'user_rating':'mean','similarity':'mean','sentiment':'mean'})"
      ],
      "execution_count": 0,
      "outputs": []
    },
    {
      "cell_type": "code",
      "metadata": {
        "id": "Bh0IGVrGQ9qr",
        "colab_type": "code",
        "outputId": "8cc56ea5-1124-4c7b-9f17-373701a94a57",
        "colab": {
          "base_uri": "https://localhost:8080/",
          "height": 174
        }
      },
      "source": [
        "data_recommend.sort_values(['sentiment','similarity'],ascending=False).head(3)"
      ],
      "execution_count": 0,
      "outputs": [
        {
          "output_type": "execute_result",
          "data": {
            "text/html": [
              "<div>\n",
              "<style scoped>\n",
              "    .dataframe tbody tr th:only-of-type {\n",
              "        vertical-align: middle;\n",
              "    }\n",
              "\n",
              "    .dataframe tbody tr th {\n",
              "        vertical-align: top;\n",
              "    }\n",
              "\n",
              "    .dataframe thead th {\n",
              "        text-align: right;\n",
              "    }\n",
              "</style>\n",
              "<table border=\"1\" class=\"dataframe\">\n",
              "  <thead>\n",
              "    <tr style=\"text-align: right;\">\n",
              "      <th></th>\n",
              "      <th>user_rating</th>\n",
              "      <th>similarity</th>\n",
              "      <th>sentiment</th>\n",
              "    </tr>\n",
              "    <tr>\n",
              "      <th>product_name</th>\n",
              "      <th></th>\n",
              "      <th></th>\n",
              "      <th></th>\n",
              "    </tr>\n",
              "  </thead>\n",
              "  <tbody>\n",
              "    <tr>\n",
              "      <th>Focal Banger</th>\n",
              "      <td>4.73</td>\n",
              "      <td>0.487926</td>\n",
              "      <td>0.9928</td>\n",
              "    </tr>\n",
              "    <tr>\n",
              "      <th>Double Dry Hopped Fort Point Pale Ale</th>\n",
              "      <td>4.34</td>\n",
              "      <td>0.503068</td>\n",
              "      <td>0.9846</td>\n",
              "    </tr>\n",
              "    <tr>\n",
              "      <th>JJJuliusss</th>\n",
              "      <td>4.77</td>\n",
              "      <td>0.493087</td>\n",
              "      <td>0.9826</td>\n",
              "    </tr>\n",
              "  </tbody>\n",
              "</table>\n",
              "</div>"
            ],
            "text/plain": [
              "                                       user_rating  similarity  sentiment\n",
              "product_name                                                             \n",
              "Focal Banger                                  4.73    0.487926     0.9928\n",
              "Double Dry Hopped Fort Point Pale Ale         4.34    0.503068     0.9846\n",
              "JJJuliusss                                    4.77    0.493087     0.9826"
            ]
          },
          "metadata": {
            "tags": []
          },
          "execution_count": 16
        }
      ]
    },
    {
      "cell_type": "markdown",
      "metadata": {
        "id": "yWf7U8nCJeul",
        "colab_type": "text"
      },
      "source": [
        "## Reccomendations on the basis of ratings"
      ]
    },
    {
      "cell_type": "code",
      "metadata": {
        "id": "5raNpM8WJkOd",
        "colab_type": "code",
        "outputId": "83f4f095-3157-4747-f302-f4b18630d892",
        "colab": {
          "base_uri": "https://localhost:8080/",
          "height": 174
        }
      },
      "source": [
        "data_similarity['user_rating'] = data_similarity['user_rating'].astype('float')\n",
        "data_similarity['sentiment'] = data_similarity['sentiment'].astype('float')\n",
        "\n",
        "data_recommend_without = data_similarity.groupby('product_name').agg({'user_rating':'mean','similarity':'mean','sentiment':'mean'})\n",
        "\n",
        "data_recommend_without_3 = data_recommend_without.sort_values(['user_rating'],ascending=False).head(3)\n",
        "data_recommend_without_3"
      ],
      "execution_count": 0,
      "outputs": [
        {
          "output_type": "execute_result",
          "data": {
            "text/html": [
              "<div>\n",
              "<style scoped>\n",
              "    .dataframe tbody tr th:only-of-type {\n",
              "        vertical-align: middle;\n",
              "    }\n",
              "\n",
              "    .dataframe tbody tr th {\n",
              "        vertical-align: top;\n",
              "    }\n",
              "\n",
              "    .dataframe thead th {\n",
              "        text-align: right;\n",
              "    }\n",
              "</style>\n",
              "<table border=\"1\" class=\"dataframe\">\n",
              "  <thead>\n",
              "    <tr style=\"text-align: right;\">\n",
              "      <th></th>\n",
              "      <th>user_rating</th>\n",
              "      <th>similarity</th>\n",
              "      <th>sentiment</th>\n",
              "    </tr>\n",
              "    <tr>\n",
              "      <th>product_name</th>\n",
              "      <th></th>\n",
              "      <th></th>\n",
              "      <th></th>\n",
              "    </tr>\n",
              "  </thead>\n",
              "  <tbody>\n",
              "    <tr>\n",
              "      <th>Kentucky Brunch Brand Stout</th>\n",
              "      <td>4.812000</td>\n",
              "      <td>0.447277</td>\n",
              "      <td>0.800576</td>\n",
              "    </tr>\n",
              "    <tr>\n",
              "      <th>Chemtrailmix</th>\n",
              "      <td>4.811176</td>\n",
              "      <td>0.447881</td>\n",
              "      <td>0.849235</td>\n",
              "    </tr>\n",
              "    <tr>\n",
              "      <th>Barrel-Aged Abraxas</th>\n",
              "      <td>4.796400</td>\n",
              "      <td>0.443101</td>\n",
              "      <td>0.816876</td>\n",
              "    </tr>\n",
              "  </tbody>\n",
              "</table>\n",
              "</div>"
            ],
            "text/plain": [
              "                             user_rating  similarity  sentiment\n",
              "product_name                                                   \n",
              "Kentucky Brunch Brand Stout     4.812000    0.447277   0.800576\n",
              "Chemtrailmix                    4.811176    0.447881   0.849235\n",
              "Barrel-Aged Abraxas             4.796400    0.443101   0.816876"
            ]
          },
          "metadata": {
            "tags": []
          },
          "execution_count": 17
        }
      ]
    },
    {
      "cell_type": "markdown",
      "metadata": {
        "id": "QcNU09cQIRbH",
        "colab_type": "text"
      },
      "source": [
        "## Task E and Task F Comparison"
      ]
    },
    {
      "cell_type": "markdown",
      "metadata": {
        "id": "AyYjwZeqKsDF",
        "colab_type": "text"
      },
      "source": [
        "#### Beers that are recommended just on the basis of user ratings are not ideal recommendations for evryone. Some people might like to drink the most popular and higly rated beer. However, when it comes to recommending a product like beer, people tend to have different tastes and likings based on different attributes of the beer. People who have a taste for hoppy beers might like Witbier while people who want aggresive beers might like IPA.\n",
        "\n",
        "#### This difference can be seen in general recommendation of Kentucky Brunch Brand Stout, Chemtrailmix, and Barrel-Aged Abraxas versus personalized recommendation of Focal Banger, Double Dry Hopped Fort Point Pale Ale, and JJJuliusss. The general recommendations, most of the time, would not meet specific preference of a person. We can see that a person who wants his/her beer to be floral, fruity, and malty in taste and texture would not like general recommendations which are far from having these properties."
      ]
    },
    {
      "cell_type": "code",
      "metadata": {
        "id": "p7feCu9LZNk7",
        "colab_type": "code",
        "colab": {}
      },
      "source": [
        ""
      ],
      "execution_count": 0,
      "outputs": []
    }
  ]
}